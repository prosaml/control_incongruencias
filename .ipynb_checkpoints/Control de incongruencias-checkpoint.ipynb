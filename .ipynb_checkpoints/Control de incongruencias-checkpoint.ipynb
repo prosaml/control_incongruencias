{
 "cells": [
  {
   "cell_type": "code",
   "execution_count": 1,
   "metadata": {},
   "outputs": [],
   "source": [
    "#Importo las librerias\n",
    "import pandas as pd\n",
    "import requests\n",
    "import progressbar\n",
    "import gspread\n",
    "from oauth2client.service_account import ServiceAccountCredentials\n",
    "from df2gspread import df2gspread as d2g\n",
    "from open_sheet import open_sheet"
   ]
  },
  {
   "cell_type": "code",
   "execution_count": 2,
   "metadata": {},
   "outputs": [],
   "source": [
    "scope_gdoc = ['https://spreadsheets.google.com/feeds','https://www.googleapis.com/auth/drive']\n",
    "cre = ServiceAccountCredentials.from_json_keyfile_name('', scope_gdoc)\n",
    "gc = gspread.authorize(cre)"
   ]
  },
  {
   "cell_type": "code",
   "execution_count": 3,
   "metadata": {},
   "outputs": [],
   "source": [
    "sheet = 'listados_de_productos_con_incongruencias'\n",
    "Planilla = '1NjNi3oEqXr8bF7ySDghnzzpzayUywVxFYuYTbVRDHjo'\n",
    "\n",
    "df = open_sheet(sheet,\n",
    "                Planilla,\n",
    "                gc)\n",
    "df = df[df['message']!='picture'].reset_index(drop=True)\n",
    "df = df[['id','Domain']]"
   ]
  },
  {
   "cell_type": "code",
   "execution_count": 5,
   "metadata": {},
   "outputs": [],
   "source": [
    "def get_attr_templates(dom):\n",
    "    s = requests.Session()\n",
    "    url = \"https://internal-api.mercadolibre.com/internal/pdp-monitor/domain/attributes-used-template/\"+str(dom)\n",
    "    headers = { \"Content-Type\": \"application/json\"}\n",
    "    response = s.get(url, headers=headers)\n",
    "    s.close()\n",
    "    return response\n",
    "\n",
    "def get_attr_prd(prd):\n",
    "    s = requests.Session()\n",
    "    url = \"https://internal-api.mercadolibre.com/catalog_products/\"+str(prd)\n",
    "    headers = { \"Content-Type\": \"application/json\"}\n",
    "    response = s.get(url, headers=headers)\n",
    "    s.close()\n",
    "    return response"
   ]
  },
  {
   "cell_type": "code",
   "execution_count": 8,
   "metadata": {
    "scrolled": true
   },
   "outputs": [
    {
     "name": "stderr",
     "output_type": "stream",
     "text": [
      "100% (2106 of 2106) |####################| Elapsed Time: 3:32:53 Time:  3:32:53\n"
     ]
    }
   ],
   "source": [
    "sites = ['MLA', 'MLB','MLM']\n",
    "\n",
    "df_list = []\n",
    "for i in progressbar.progressbar(range(len(df))):\n",
    "    for s in sites:\n",
    "        prod = s+df.loc[i,'id']\n",
    "        dom = df.loc[i,'Domain']\n",
    "\n",
    "        attr_template = get_attr_templates(dom)\n",
    "        attr_prod = get_attr_prd(prod)\n",
    "        if attr_template.status_code in range(200,300) and attr_prod.status_code in range(200,300):\n",
    "            attr_template= attr_template.json()\n",
    "            attr_prod = attr_prod.json().get('attributes')\n",
    "\n",
    "            list_attr_t=[]\n",
    "            for t in range(len(attr_template)):\n",
    "                list_attr_t.append(attr_template[t].get('id'))\n",
    "\n",
    "            list_attr_prod=[]\n",
    "            empty = []\n",
    "            for p in range(len(attr_prod)):\n",
    "                attr_p = attr_prod[p].get('id')\n",
    "                list_attr_prod.append(attr_p)\n",
    "                \n",
    "                if attr_prod[p].get('value_name') == '':\n",
    "                    empty_attr.append(attr_prod[p].get('id'))\n",
    "\n",
    "\n",
    "            attr_used = [a for a in list_attr_prod if a in list_attr_t]\n",
    "            not_used = [a for a in list_attr_t if a not in list_attr_prod]        \n",
    "            \n",
    "            df_list.append({\n",
    "                'id':df.loc[i,'id'],\n",
    "                'prod':prod,\n",
    "                'site':s,\n",
    "                'Domain':dom,\n",
    "                'q_used': len(attr_used),\n",
    "                'q_not_used':len(not_used),\n",
    "                'attr_used':attr_used,\n",
    "                'attr_not_used':not_used,\n",
    "                'empty': empty\n",
    "            })"
   ]
  },
  {
   "cell_type": "code",
   "execution_count": 9,
   "metadata": {},
   "outputs": [],
   "source": [
    "df_upload = pd.DataFrame(df_list)\n",
    "df_upload"
   ]
  },
  {
   "cell_type": "code",
   "execution_count": 13,
   "metadata": {},
   "outputs": [
    {
     "data": {
      "text/plain": [
       "<Worksheet 'listado_incongruencias' id:787862058>"
      ]
     },
     "execution_count": 13,
     "metadata": {},
     "output_type": "execute_result"
    }
   ],
   "source": [
    "Planilla = '1NjNi3oEqXr8bF7ySDghnzzpzayUywVxFYuYTbVRDHjo'\n",
    "d2g.upload(df_upload, Planilla, 'listado_incongruencias', credentials=cre)"
   ]
  },
  {
   "cell_type": "code",
   "execution_count": null,
   "metadata": {},
   "outputs": [],
   "source": []
  }
 ],
 "metadata": {
  "kernelspec": {
   "display_name": "Python 3",
   "language": "python",
   "name": "python3"
  },
  "language_info": {
   "codemirror_mode": {
    "name": "ipython",
    "version": 3
   },
   "file_extension": ".py",
   "mimetype": "text/x-python",
   "name": "python",
   "nbconvert_exporter": "python",
   "pygments_lexer": "ipython3",
   "version": "3.7.3"
  }
 },
 "nbformat": 4,
 "nbformat_minor": 2
}
